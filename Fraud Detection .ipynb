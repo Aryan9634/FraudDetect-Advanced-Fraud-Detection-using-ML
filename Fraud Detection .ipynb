{
 "cells": [
  {
   "cell_type": "markdown",
   "id": "ef6e62fd",
   "metadata": {},
   "source": [
    "Importing required modules"
   ]
  },
  {
   "cell_type": "code",
   "execution_count": 200,
   "id": "6eda8022",
   "metadata": {},
   "outputs": [],
   "source": [
    "#Linear algebra and processing \n",
    "import numpy as np\n",
    "import pandas as pd\n",
    "\n",
    "from sklearn.preprocessing import LabelEncoder\n",
    "from sklearn.preprocessing import StandardScaler, MinMaxScaler, RobustScaler, PowerTransformer\n",
    "from sklearn.pipeline import Pipeline\n",
    "from sklearn.model_selection import train_test_split, RandomizedSearchCV, StratifiedKFold\n",
    "from sklearn.feature_selection import SelectKBest, mutual_info_classif\n",
    "\n",
    "from sklearn.ensemble import RandomForestClassifier, GradientBoostingClassifier, VotingClassifier\n",
    "from sklearn.neighbors import KNeighborsClassifier\n",
    "from sklearn.svm import SVC\n",
    "from sklearn.tree import DecisionTreeClassifier\n",
    "from sklearn.linear_model import LogisticRegression\n",
    "\n",
    "from sklearn.metrics import accuracy_score, precision_score, recall_score, f1_score, confusion_matrix\n",
    "from sklearn.metrics import plot_precision_recall_curve, plot_roc_curve, classification_report\n",
    "\n",
    "import re\n",
    "import pickle\n",
    "import os\n",
    "\n",
    "#data visualisation \n",
    "import warnings\n",
    "import seaborn as sns\n",
    "from mlxtend.plotting import plot_confusion_matrix\n",
    "import matplotlib.pyplot as plt\n",
    "%matplotlib inline\n",
    "warnings.filterwarnings(\"ignore\")"
   ]
  },
  {
   "cell_type": "markdown",
   "id": "bb9f5336",
   "metadata": {},
   "source": [
    "Setting directory variables"
   ]
  },
  {
   "cell_type": "code",
   "execution_count": 201,
   "id": "a48146db",
   "metadata": {},
   "outputs": [],
   "source": [
    "input_data_dir = r\"C:\\Users\\91738\\OneDrive\\Desktop\\Accredian\\inputs\"\n",
    "output_data_dir = r\"C:\\Users\\91738\\OneDrive\\Desktop\\Accredian\\outputs\"\n",
    "models_dir = r\"C:\\Users\\91738\\OneDrive\\Desktop\\Accredian\\models\""
   ]
  },
  {
   "cell_type": "markdown",
   "id": "6b3c32f3",
   "metadata": {},
   "source": [
    "Loading data"
   ]
  },
  {
   "cell_type": "code",
   "execution_count": 202,
   "id": "6138b991",
   "metadata": {},
   "outputs": [],
   "source": [
    "if not os.path.exists(output_data_dir):\n",
    "    os.makedirs(output_data_dir)\n",
    "if not os.path.exists(models_dir):\n",
    "    os.makedirs(models_dir)\n",
    "\n",
    "    \n",
    "def load_data(data_dir, file_name):\n",
    "    \"\"\"\n",
    "    Load data from a CSV file and parse date columns.\n",
    "\n",
    "    Parameters:\n",
    "        data_dir (str): The directory where the data file is located.\n",
    "        file_name (str): The name of the CSV file to load.\n",
    "\n",
    "    Returns:\n",
    "        pd.DataFrame: The loaded dataset.\n",
    "    \"\"\"\n",
    "    file_path = os.path.join(data_dir, file_name)\n",
    "    return pd.read_csv(file_path)"
   ]
  },
  {
   "cell_type": "code",
   "execution_count": 203,
   "id": "3b268183",
   "metadata": {},
   "outputs": [],
   "source": [
    "data = load_data(input_data_dir, \"Fraud.csv\")"
   ]
  },
  {
   "cell_type": "markdown",
   "id": "8381750d",
   "metadata": {},
   "source": [
    "Data inspection "
   ]
  },
  {
   "cell_type": "code",
   "execution_count": 204,
   "id": "6c924efd",
   "metadata": {},
   "outputs": [
    {
     "data": {
      "text/html": [
       "<div>\n",
       "<style scoped>\n",
       "    .dataframe tbody tr th:only-of-type {\n",
       "        vertical-align: middle;\n",
       "    }\n",
       "\n",
       "    .dataframe tbody tr th {\n",
       "        vertical-align: top;\n",
       "    }\n",
       "\n",
       "    .dataframe thead th {\n",
       "        text-align: right;\n",
       "    }\n",
       "</style>\n",
       "<table border=\"1\" class=\"dataframe\">\n",
       "  <thead>\n",
       "    <tr style=\"text-align: right;\">\n",
       "      <th></th>\n",
       "      <th>step</th>\n",
       "      <th>type</th>\n",
       "      <th>amount</th>\n",
       "      <th>nameOrig</th>\n",
       "      <th>oldbalanceOrg</th>\n",
       "      <th>newbalanceOrig</th>\n",
       "      <th>nameDest</th>\n",
       "      <th>oldbalanceDest</th>\n",
       "      <th>newbalanceDest</th>\n",
       "      <th>isFraud</th>\n",
       "      <th>isFlaggedFraud</th>\n",
       "    </tr>\n",
       "  </thead>\n",
       "  <tbody>\n",
       "    <tr>\n",
       "      <th>0</th>\n",
       "      <td>1</td>\n",
       "      <td>PAYMENT</td>\n",
       "      <td>9839.64</td>\n",
       "      <td>C1231006815</td>\n",
       "      <td>170136.0</td>\n",
       "      <td>160296.36</td>\n",
       "      <td>M1979787155</td>\n",
       "      <td>0.0</td>\n",
       "      <td>0.0</td>\n",
       "      <td>0</td>\n",
       "      <td>0</td>\n",
       "    </tr>\n",
       "    <tr>\n",
       "      <th>1</th>\n",
       "      <td>1</td>\n",
       "      <td>PAYMENT</td>\n",
       "      <td>1864.28</td>\n",
       "      <td>C1666544295</td>\n",
       "      <td>21249.0</td>\n",
       "      <td>19384.72</td>\n",
       "      <td>M2044282225</td>\n",
       "      <td>0.0</td>\n",
       "      <td>0.0</td>\n",
       "      <td>0</td>\n",
       "      <td>0</td>\n",
       "    </tr>\n",
       "    <tr>\n",
       "      <th>2</th>\n",
       "      <td>1</td>\n",
       "      <td>TRANSFER</td>\n",
       "      <td>181.00</td>\n",
       "      <td>C1305486145</td>\n",
       "      <td>181.0</td>\n",
       "      <td>0.00</td>\n",
       "      <td>C553264065</td>\n",
       "      <td>0.0</td>\n",
       "      <td>0.0</td>\n",
       "      <td>1</td>\n",
       "      <td>0</td>\n",
       "    </tr>\n",
       "    <tr>\n",
       "      <th>3</th>\n",
       "      <td>1</td>\n",
       "      <td>CASH_OUT</td>\n",
       "      <td>181.00</td>\n",
       "      <td>C840083671</td>\n",
       "      <td>181.0</td>\n",
       "      <td>0.00</td>\n",
       "      <td>C38997010</td>\n",
       "      <td>21182.0</td>\n",
       "      <td>0.0</td>\n",
       "      <td>1</td>\n",
       "      <td>0</td>\n",
       "    </tr>\n",
       "    <tr>\n",
       "      <th>4</th>\n",
       "      <td>1</td>\n",
       "      <td>PAYMENT</td>\n",
       "      <td>11668.14</td>\n",
       "      <td>C2048537720</td>\n",
       "      <td>41554.0</td>\n",
       "      <td>29885.86</td>\n",
       "      <td>M1230701703</td>\n",
       "      <td>0.0</td>\n",
       "      <td>0.0</td>\n",
       "      <td>0</td>\n",
       "      <td>0</td>\n",
       "    </tr>\n",
       "  </tbody>\n",
       "</table>\n",
       "</div>"
      ],
      "text/plain": [
       "   step      type    amount     nameOrig  oldbalanceOrg  newbalanceOrig  \\\n",
       "0     1   PAYMENT   9839.64  C1231006815       170136.0       160296.36   \n",
       "1     1   PAYMENT   1864.28  C1666544295        21249.0        19384.72   \n",
       "2     1  TRANSFER    181.00  C1305486145          181.0            0.00   \n",
       "3     1  CASH_OUT    181.00   C840083671          181.0            0.00   \n",
       "4     1   PAYMENT  11668.14  C2048537720        41554.0        29885.86   \n",
       "\n",
       "      nameDest  oldbalanceDest  newbalanceDest  isFraud  isFlaggedFraud  \n",
       "0  M1979787155             0.0             0.0        0               0  \n",
       "1  M2044282225             0.0             0.0        0               0  \n",
       "2   C553264065             0.0             0.0        1               0  \n",
       "3    C38997010         21182.0             0.0        1               0  \n",
       "4  M1230701703             0.0             0.0        0               0  "
      ]
     },
     "execution_count": 204,
     "metadata": {},
     "output_type": "execute_result"
    }
   ],
   "source": [
    "data.head()"
   ]
  },
  {
   "cell_type": "markdown",
   "id": "42ee66ed",
   "metadata": {},
   "source": [
    "Data summary statistics"
   ]
  },
  {
   "cell_type": "code",
   "execution_count": 205,
   "id": "efeb1c71",
   "metadata": {},
   "outputs": [
    {
     "data": {
      "text/html": [
       "<div>\n",
       "<style scoped>\n",
       "    .dataframe tbody tr th:only-of-type {\n",
       "        vertical-align: middle;\n",
       "    }\n",
       "\n",
       "    .dataframe tbody tr th {\n",
       "        vertical-align: top;\n",
       "    }\n",
       "\n",
       "    .dataframe thead th {\n",
       "        text-align: right;\n",
       "    }\n",
       "</style>\n",
       "<table border=\"1\" class=\"dataframe\">\n",
       "  <thead>\n",
       "    <tr style=\"text-align: right;\">\n",
       "      <th></th>\n",
       "      <th>step</th>\n",
       "      <th>amount</th>\n",
       "      <th>oldbalanceOrg</th>\n",
       "      <th>newbalanceOrig</th>\n",
       "      <th>oldbalanceDest</th>\n",
       "      <th>newbalanceDest</th>\n",
       "      <th>isFraud</th>\n",
       "      <th>isFlaggedFraud</th>\n",
       "    </tr>\n",
       "  </thead>\n",
       "  <tbody>\n",
       "    <tr>\n",
       "      <th>count</th>\n",
       "      <td>6.362620e+06</td>\n",
       "      <td>6.362620e+06</td>\n",
       "      <td>6.362620e+06</td>\n",
       "      <td>6.362620e+06</td>\n",
       "      <td>6.362620e+06</td>\n",
       "      <td>6.362620e+06</td>\n",
       "      <td>6.362620e+06</td>\n",
       "      <td>6.362620e+06</td>\n",
       "    </tr>\n",
       "    <tr>\n",
       "      <th>mean</th>\n",
       "      <td>2.433972e+02</td>\n",
       "      <td>1.798619e+05</td>\n",
       "      <td>8.338831e+05</td>\n",
       "      <td>8.551137e+05</td>\n",
       "      <td>1.100702e+06</td>\n",
       "      <td>1.224996e+06</td>\n",
       "      <td>1.290820e-03</td>\n",
       "      <td>2.514687e-06</td>\n",
       "    </tr>\n",
       "    <tr>\n",
       "      <th>std</th>\n",
       "      <td>1.423320e+02</td>\n",
       "      <td>6.038582e+05</td>\n",
       "      <td>2.888243e+06</td>\n",
       "      <td>2.924049e+06</td>\n",
       "      <td>3.399180e+06</td>\n",
       "      <td>3.674129e+06</td>\n",
       "      <td>3.590480e-02</td>\n",
       "      <td>1.585775e-03</td>\n",
       "    </tr>\n",
       "    <tr>\n",
       "      <th>min</th>\n",
       "      <td>1.000000e+00</td>\n",
       "      <td>0.000000e+00</td>\n",
       "      <td>0.000000e+00</td>\n",
       "      <td>0.000000e+00</td>\n",
       "      <td>0.000000e+00</td>\n",
       "      <td>0.000000e+00</td>\n",
       "      <td>0.000000e+00</td>\n",
       "      <td>0.000000e+00</td>\n",
       "    </tr>\n",
       "    <tr>\n",
       "      <th>25%</th>\n",
       "      <td>1.560000e+02</td>\n",
       "      <td>1.338957e+04</td>\n",
       "      <td>0.000000e+00</td>\n",
       "      <td>0.000000e+00</td>\n",
       "      <td>0.000000e+00</td>\n",
       "      <td>0.000000e+00</td>\n",
       "      <td>0.000000e+00</td>\n",
       "      <td>0.000000e+00</td>\n",
       "    </tr>\n",
       "    <tr>\n",
       "      <th>50%</th>\n",
       "      <td>2.390000e+02</td>\n",
       "      <td>7.487194e+04</td>\n",
       "      <td>1.420800e+04</td>\n",
       "      <td>0.000000e+00</td>\n",
       "      <td>1.327057e+05</td>\n",
       "      <td>2.146614e+05</td>\n",
       "      <td>0.000000e+00</td>\n",
       "      <td>0.000000e+00</td>\n",
       "    </tr>\n",
       "    <tr>\n",
       "      <th>75%</th>\n",
       "      <td>3.350000e+02</td>\n",
       "      <td>2.087215e+05</td>\n",
       "      <td>1.073152e+05</td>\n",
       "      <td>1.442584e+05</td>\n",
       "      <td>9.430367e+05</td>\n",
       "      <td>1.111909e+06</td>\n",
       "      <td>0.000000e+00</td>\n",
       "      <td>0.000000e+00</td>\n",
       "    </tr>\n",
       "    <tr>\n",
       "      <th>max</th>\n",
       "      <td>7.430000e+02</td>\n",
       "      <td>9.244552e+07</td>\n",
       "      <td>5.958504e+07</td>\n",
       "      <td>4.958504e+07</td>\n",
       "      <td>3.560159e+08</td>\n",
       "      <td>3.561793e+08</td>\n",
       "      <td>1.000000e+00</td>\n",
       "      <td>1.000000e+00</td>\n",
       "    </tr>\n",
       "  </tbody>\n",
       "</table>\n",
       "</div>"
      ],
      "text/plain": [
       "               step        amount  oldbalanceOrg  newbalanceOrig  \\\n",
       "count  6.362620e+06  6.362620e+06   6.362620e+06    6.362620e+06   \n",
       "mean   2.433972e+02  1.798619e+05   8.338831e+05    8.551137e+05   \n",
       "std    1.423320e+02  6.038582e+05   2.888243e+06    2.924049e+06   \n",
       "min    1.000000e+00  0.000000e+00   0.000000e+00    0.000000e+00   \n",
       "25%    1.560000e+02  1.338957e+04   0.000000e+00    0.000000e+00   \n",
       "50%    2.390000e+02  7.487194e+04   1.420800e+04    0.000000e+00   \n",
       "75%    3.350000e+02  2.087215e+05   1.073152e+05    1.442584e+05   \n",
       "max    7.430000e+02  9.244552e+07   5.958504e+07    4.958504e+07   \n",
       "\n",
       "       oldbalanceDest  newbalanceDest       isFraud  isFlaggedFraud  \n",
       "count    6.362620e+06    6.362620e+06  6.362620e+06    6.362620e+06  \n",
       "mean     1.100702e+06    1.224996e+06  1.290820e-03    2.514687e-06  \n",
       "std      3.399180e+06    3.674129e+06  3.590480e-02    1.585775e-03  \n",
       "min      0.000000e+00    0.000000e+00  0.000000e+00    0.000000e+00  \n",
       "25%      0.000000e+00    0.000000e+00  0.000000e+00    0.000000e+00  \n",
       "50%      1.327057e+05    2.146614e+05  0.000000e+00    0.000000e+00  \n",
       "75%      9.430367e+05    1.111909e+06  0.000000e+00    0.000000e+00  \n",
       "max      3.560159e+08    3.561793e+08  1.000000e+00    1.000000e+00  "
      ]
     },
     "execution_count": 205,
     "metadata": {},
     "output_type": "execute_result"
    }
   ],
   "source": [
    "data.describe()"
   ]
  },
  {
   "cell_type": "code",
   "execution_count": 206,
   "id": "72f8f497",
   "metadata": {},
   "outputs": [
    {
     "name": "stdout",
     "output_type": "stream",
     "text": [
      "<class 'pandas.core.frame.DataFrame'>\n",
      "RangeIndex: 6362620 entries, 0 to 6362619\n",
      "Data columns (total 11 columns):\n",
      " #   Column          Dtype  \n",
      "---  ------          -----  \n",
      " 0   step            int64  \n",
      " 1   type            object \n",
      " 2   amount          float64\n",
      " 3   nameOrig        object \n",
      " 4   oldbalanceOrg   float64\n",
      " 5   newbalanceOrig  float64\n",
      " 6   nameDest        object \n",
      " 7   oldbalanceDest  float64\n",
      " 8   newbalanceDest  float64\n",
      " 9   isFraud         int64  \n",
      " 10  isFlaggedFraud  int64  \n",
      "dtypes: float64(5), int64(3), object(3)\n",
      "memory usage: 534.0+ MB\n"
     ]
    }
   ],
   "source": [
    "data.info()"
   ]
  },
  {
   "cell_type": "markdown",
   "id": "86cbb0e8",
   "metadata": {},
   "source": [
    "Pre EDA data processing "
   ]
  },
  {
   "cell_type": "markdown",
   "id": "a8d2cd67",
   "metadata": {},
   "source": [
    "- Duplicate data processing "
   ]
  },
  {
   "cell_type": "code",
   "execution_count": 207,
   "id": "ea90fc02",
   "metadata": {},
   "outputs": [
    {
     "data": {
      "text/plain": [
       "False    6362620\n",
       "dtype: int64"
      ]
     },
     "execution_count": 207,
     "metadata": {},
     "output_type": "execute_result"
    }
   ],
   "source": [
    "data.duplicated().value_counts() #no need to process - no duplicates"
   ]
  },
  {
   "cell_type": "markdown",
   "id": "eac66868",
   "metadata": {},
   "source": [
    "- Null value processing"
   ]
  },
  {
   "cell_type": "code",
   "execution_count": 208,
   "id": "c91330d7",
   "metadata": {},
   "outputs": [
    {
     "data": {
      "text/plain": [
       "step              0\n",
       "type              0\n",
       "amount            0\n",
       "nameOrig          0\n",
       "oldbalanceOrg     0\n",
       "newbalanceOrig    0\n",
       "nameDest          0\n",
       "oldbalanceDest    0\n",
       "newbalanceDest    0\n",
       "isFraud           0\n",
       "isFlaggedFraud    0\n",
       "dtype: int64"
      ]
     },
     "execution_count": 208,
     "metadata": {},
     "output_type": "execute_result"
    }
   ],
   "source": [
    "data.isnull().sum() #no null values "
   ]
  },
  {
   "cell_type": "markdown",
   "id": "2498f1b0",
   "metadata": {},
   "source": [
    "EDA"
   ]
  },
  {
   "cell_type": "markdown",
   "id": "476c32e2",
   "metadata": {},
   "source": [
    "Post EDA data processing "
   ]
  },
  {
   "cell_type": "markdown",
   "id": "bdc0da2e",
   "metadata": {},
   "source": [
    "- Dropping redundant columns "
   ]
  },
  {
   "cell_type": "code",
   "execution_count": 209,
   "id": "5ce421ec",
   "metadata": {},
   "outputs": [],
   "source": [
    "def calculate_uniqueness_ratio(dataset):\n",
    "    \"\"\"\n",
    "    Calculate the uniqueness ratio for each column in the dataset.\n",
    "\n",
    "    Parameters:\n",
    "    dataset (pd.DataFrame): The dataset to calculate uniqueness ratios for.\n",
    "\n",
    "    Returns:\n",
    "    dict: A dictionary where keys are column names and values are uniqueness ratios.\n",
    "    \"\"\"\n",
    "    # Select object-type columns\n",
    "    object_columns = dataset.select_dtypes(include='object').columns\n",
    "\n",
    "    # Calculate uniqueness ratios\n",
    "    uniqueness_ratios = {column: len(dataset[column].unique()) / len(dataset)\n",
    "                         for column in object_columns}\n",
    "\n",
    "    return uniqueness_ratios\n",
    "\n",
    "def display_uniqueness_ratios(uniqueness_ratios):\n",
    "    \"\"\"\n",
    "    Display the uniqueness ratios.\n",
    "\n",
    "    Parameters:\n",
    "    uniqueness_ratios (dict): A dictionary containing column names and uniqueness ratios.\n",
    "    \"\"\"\n",
    "    print(\"Uniqueness ratios:\\n\")\n",
    "    for column_name, ratio in uniqueness_ratios.items():\n",
    "        print(f\"{column_name}: {ratio}\")"
   ]
  },
  {
   "cell_type": "code",
   "execution_count": 210,
   "id": "47c3472e",
   "metadata": {},
   "outputs": [
    {
     "name": "stdout",
     "output_type": "stream",
     "text": [
      "Uniqueness ratios:\n",
      "\n",
      "type: 7.858397955559188e-07\n",
      "nameOrig: 0.9985362947967975\n",
      "nameDest: 0.4278680795018404\n"
     ]
    }
   ],
   "source": [
    "uniqueness_ratios = calculate_uniqueness_ratio(data)\n",
    "display_uniqueness_ratios(uniqueness_ratios)"
   ]
  },
  {
   "cell_type": "code",
   "execution_count": 211,
   "id": "bb441754",
   "metadata": {},
   "outputs": [],
   "source": [
    "\"\"\"\n",
    "As observed, the 'nameOrig' and 'nameDest' columns exhibit a high uniqueness ratio, \n",
    "indicating no variation and no correlation. Therefore, it is appropriate to drop these columns.\n",
    "\"\"\"\n",
    "data.drop(columns=[\"nameOrig\",\"nameDest\"], inplace=True)"
   ]
  },
  {
   "cell_type": "markdown",
   "id": "7ea74db0",
   "metadata": {},
   "source": [
    "- Encoding categorical data"
   ]
  },
  {
   "cell_type": "code",
   "execution_count": 212,
   "id": "3e89515e",
   "metadata": {},
   "outputs": [],
   "source": [
    "encoder = LabelEncoder()"
   ]
  },
  {
   "cell_type": "code",
   "execution_count": 213,
   "id": "93b27e74",
   "metadata": {},
   "outputs": [],
   "source": [
    "data.type = encoder.fit_transform(data.type)"
   ]
  },
  {
   "cell_type": "code",
   "execution_count": 214,
   "id": "24dedd66",
   "metadata": {},
   "outputs": [
    {
     "data": {
      "text/html": [
       "<div>\n",
       "<style scoped>\n",
       "    .dataframe tbody tr th:only-of-type {\n",
       "        vertical-align: middle;\n",
       "    }\n",
       "\n",
       "    .dataframe tbody tr th {\n",
       "        vertical-align: top;\n",
       "    }\n",
       "\n",
       "    .dataframe thead th {\n",
       "        text-align: right;\n",
       "    }\n",
       "</style>\n",
       "<table border=\"1\" class=\"dataframe\">\n",
       "  <thead>\n",
       "    <tr style=\"text-align: right;\">\n",
       "      <th></th>\n",
       "      <th>step</th>\n",
       "      <th>type</th>\n",
       "      <th>amount</th>\n",
       "      <th>oldbalanceOrg</th>\n",
       "      <th>newbalanceOrig</th>\n",
       "      <th>oldbalanceDest</th>\n",
       "      <th>newbalanceDest</th>\n",
       "      <th>isFraud</th>\n",
       "      <th>isFlaggedFraud</th>\n",
       "    </tr>\n",
       "  </thead>\n",
       "  <tbody>\n",
       "    <tr>\n",
       "      <th>0</th>\n",
       "      <td>1</td>\n",
       "      <td>3</td>\n",
       "      <td>9839.64</td>\n",
       "      <td>170136.0</td>\n",
       "      <td>160296.36</td>\n",
       "      <td>0.0</td>\n",
       "      <td>0.0</td>\n",
       "      <td>0</td>\n",
       "      <td>0</td>\n",
       "    </tr>\n",
       "    <tr>\n",
       "      <th>1</th>\n",
       "      <td>1</td>\n",
       "      <td>3</td>\n",
       "      <td>1864.28</td>\n",
       "      <td>21249.0</td>\n",
       "      <td>19384.72</td>\n",
       "      <td>0.0</td>\n",
       "      <td>0.0</td>\n",
       "      <td>0</td>\n",
       "      <td>0</td>\n",
       "    </tr>\n",
       "    <tr>\n",
       "      <th>2</th>\n",
       "      <td>1</td>\n",
       "      <td>4</td>\n",
       "      <td>181.00</td>\n",
       "      <td>181.0</td>\n",
       "      <td>0.00</td>\n",
       "      <td>0.0</td>\n",
       "      <td>0.0</td>\n",
       "      <td>1</td>\n",
       "      <td>0</td>\n",
       "    </tr>\n",
       "    <tr>\n",
       "      <th>3</th>\n",
       "      <td>1</td>\n",
       "      <td>1</td>\n",
       "      <td>181.00</td>\n",
       "      <td>181.0</td>\n",
       "      <td>0.00</td>\n",
       "      <td>21182.0</td>\n",
       "      <td>0.0</td>\n",
       "      <td>1</td>\n",
       "      <td>0</td>\n",
       "    </tr>\n",
       "    <tr>\n",
       "      <th>4</th>\n",
       "      <td>1</td>\n",
       "      <td>3</td>\n",
       "      <td>11668.14</td>\n",
       "      <td>41554.0</td>\n",
       "      <td>29885.86</td>\n",
       "      <td>0.0</td>\n",
       "      <td>0.0</td>\n",
       "      <td>0</td>\n",
       "      <td>0</td>\n",
       "    </tr>\n",
       "  </tbody>\n",
       "</table>\n",
       "</div>"
      ],
      "text/plain": [
       "   step  type    amount  oldbalanceOrg  newbalanceOrig  oldbalanceDest  \\\n",
       "0     1     3   9839.64       170136.0       160296.36             0.0   \n",
       "1     1     3   1864.28        21249.0        19384.72             0.0   \n",
       "2     1     4    181.00          181.0            0.00             0.0   \n",
       "3     1     1    181.00          181.0            0.00         21182.0   \n",
       "4     1     3  11668.14        41554.0        29885.86             0.0   \n",
       "\n",
       "   newbalanceDest  isFraud  isFlaggedFraud  \n",
       "0             0.0        0               0  \n",
       "1             0.0        0               0  \n",
       "2             0.0        1               0  \n",
       "3             0.0        1               0  \n",
       "4             0.0        0               0  "
      ]
     },
     "execution_count": 214,
     "metadata": {},
     "output_type": "execute_result"
    }
   ],
   "source": [
    "data.head()"
   ]
  },
  {
   "cell_type": "markdown",
   "id": "5b278a7a",
   "metadata": {},
   "source": [
    "- Outlier analysis"
   ]
  },
  {
   "cell_type": "code",
   "execution_count": 215,
   "id": "d985765e",
   "metadata": {},
   "outputs": [],
   "source": [
    "def detect_outliers(column):\n",
    "    \"\"\"\n",
    "    Detect outliers in a numerical column using the IQR method.\n",
    "\n",
    "    Parameters:\n",
    "    column (pd.Series): A numerical column.\n",
    "\n",
    "    Returns:\n",
    "    pd.Series: A boolean series indicating outliers.\n",
    "    \"\"\"\n",
    "    Q1 = column.quantile(0.25)\n",
    "    Q3 = column.quantile(0.75)\n",
    "    IQR = Q3 - Q1\n",
    "    lower_bound = Q1 - 1.5 * IQR\n",
    "    upper_bound = Q3 + 1.5 * IQR\n",
    "    return ((column < lower_bound) | (column > upper_bound)).sum()\n",
    "\n",
    "def calculate_outlier_ratio(dataset):\n",
    "    \"\"\"\n",
    "    Calculate the outlier ratio for each numerical column in the dataset using the IQR method.\n",
    "\n",
    "    Parameters:\n",
    "    dataset (pd.DataFrame): The dataset.\n",
    "\n",
    "    Returns:\n",
    "    dict: A dictionary where keys are column names and values are outlier ratios.\n",
    "    \"\"\"\n",
    "    numerical_columns = dataset.select_dtypes(include='float').columns\n",
    "    outlier_ratios = {}\n",
    "\n",
    "    for column in numerical_columns:\n",
    "        outliers = detect_outliers(dataset[column])\n",
    "        outlier_ratio = outliers/len(dataset)\n",
    "        outlier_ratios[column] = outlier_ratio\n",
    "\n",
    "    return outlier_ratios\n",
    "\n",
    "def display_outlier_ratios(outlier_ratios):\n",
    "    \"\"\"\n",
    "    Display the outlier ratios.\n",
    "\n",
    "    Parameters:\n",
    "    outlier_ratios (dict): A dictionary containing column names and outlier ratios.\n",
    "    \"\"\"\n",
    "    print(\"Outlier ratios:\\n\")\n",
    "    for column_name, ratio in outlier_ratios.items():\n",
    "        ratio = np.round(ratio*100,3)\n",
    "        print(f\"{column_name}: {ratio}%\")"
   ]
  },
  {
   "cell_type": "code",
   "execution_count": 216,
   "id": "ee907aa7",
   "metadata": {},
   "outputs": [
    {
     "name": "stdout",
     "output_type": "stream",
     "text": [
      "Outlier ratios:\n",
      "\n",
      "amount: 5.314%\n",
      "oldbalanceOrg: 17.485%\n",
      "newbalanceOrig: 16.556%\n",
      "oldbalanceDest: 12.356%\n",
      "newbalanceDest: 11.607%\n"
     ]
    }
   ],
   "source": [
    "\"\"\"\n",
    "I believe outliers are important for this particular problem statement, as they can potentially signify fraudulent activities.\n",
    "Therefore, I will retain and utilize the outliers in my analysis and model building process.\n",
    "\"\"\"\n",
    "outlier_ratios = calculate_outlier_ratio(data) \n",
    "display_outlier_ratios(outlier_ratios)"
   ]
  },
  {
   "cell_type": "markdown",
   "id": "6f0ce735",
   "metadata": {},
   "source": [
    "- Scaling data"
   ]
  },
  {
   "cell_type": "code",
   "execution_count": 217,
   "id": "3ee8bb70",
   "metadata": {},
   "outputs": [],
   "source": [
    "scaling_columns = data.select_dtypes(include='float').columns"
   ]
  },
  {
   "cell_type": "code",
   "execution_count": 218,
   "id": "1fa74ab9",
   "metadata": {},
   "outputs": [
    {
     "data": {
      "image/png": "[encoded data removed]",
      "text/plain": [
       "<Figure size 864x288 with 5 Axes>"
      ]
     },
     "metadata": {
      "needs_background": "light"
     },
     "output_type": "display_data"
    }
   ],
   "source": [
    "plt.figure(figsize=(12,4))\n",
    "plt.suptitle(\"Before scaling\",fontsize=20)\n",
    "for i in range(len(scaling_columns)):\n",
    "    plt.subplot(1,5,i+1)\n",
    "    data[scaling_columns[i]].plot(kind=\"kde\")    \n",
    "plt.tight_layout(pad=2)\n",
    "plt.show()"
   ]
  },
  {
   "cell_type": "code",
   "execution_count": 219,
   "id": "913e617a",
   "metadata": {},
   "outputs": [],
   "source": [
    "def scale_data(data, columns=scaling_columns):\n",
    "    \"\"\"\n",
    "    Scale specified columns of the dataset using different scalers.\n",
    "\n",
    "    Parameters:\n",
    "    data (pd.DataFrame): The dataset to be scaled.\n",
    "    columns (list, optional): List of column names to be scaled. If not provided, all columns are scaled.\n",
    "\n",
    "    Returns:\n",
    "    pd.DataFrame: The scaled dataset.\n",
    "    \"\"\"\n",
    "    # If columns are not provided, scale all columns\n",
    "    if columns is None:\n",
    "        columns = data.select_dtypes(include='float').columns\n",
    "    \n",
    "    scalers = [('StandardScaler', StandardScaler()),\n",
    "               ('MinMaxScaler', MinMaxScaler()),\n",
    "               ('RobustScaler', RobustScaler()),\n",
    "               ('PowerTransformer', PowerTransformer(method='yeo-johnson'))\n",
    "              ]\n",
    "    \n",
    "    scaler_pipeline = Pipeline(scalers)\n",
    "    data[columns] = scaler_pipeline.fit_transform(data[columns])\n",
    "    return data"
   ]
  },
  {
   "cell_type": "code",
   "execution_count": 220,
   "id": "bf201af7",
   "metadata": {},
   "outputs": [],
   "source": [
    "scaled_data = scale_data(data)"
   ]
  },
  {
   "cell_type": "code",
   "execution_count": 221,
   "id": "590b8b93",
   "metadata": {},
   "outputs": [],
   "source": [
    "scaled_data_path = os.path.join(output_data_dir, \"scaled_data.pkl\")\n",
    "with open(scaled_data_path, \"wb\") as file:\n",
    "        pickle.dump(scaled_data, file)"
   ]
  },
  {
   "cell_type": "code",
   "execution_count": 222,
   "id": "a969ed53",
   "metadata": {
    "scrolled": true
   },
   "outputs": [
    {
     "data": {
      "image/png": "[encoded data removed]",
      "text/plain": [
       "<Figure size 864x288 with 5 Axes>"
      ]
     },
     "metadata": {
      "needs_background": "light"
     },
     "output_type": "display_data"
    }
   ],
   "source": [
    "plt.figure(figsize=(12,4))\n",
    "plt.suptitle(\"After scaling\",fontsize=20)\n",
    "for i in range(len(scaling_columns)):\n",
    "    plt.subplot(1,5,i+1)\n",
    "    scaled_data[scaling_columns[i]].plot(kind=\"kde\")    \n",
    "plt.tight_layout(pad=2)\n",
    "plt.show()"
   ]
  },
  {
   "cell_type": "code",
   "execution_count": 3,
   "id": "09eb224f",
   "metadata": {},
   "outputs": [],
   "source": [
    "scaled_data_path = os.path.join(output_data_dir, \"scaled_data.pkl\")\n",
    "def load_processed_data(file_path):\n",
    "    with open(file_path, \"rb\") as file:\n",
    "        return pickle.load(file)"
   ]
  },
  {
   "cell_type": "code",
   "execution_count": 4,
   "id": "6e0d9737",
   "metadata": {
    "scrolled": true
   },
   "outputs": [
    {
     "data": {
      "text/html": [
       "<div>\n",
       "<style scoped>\n",
       "    .dataframe tbody tr th:only-of-type {\n",
       "        vertical-align: middle;\n",
       "    }\n",
       "\n",
       "    .dataframe tbody tr th {\n",
       "        vertical-align: top;\n",
       "    }\n",
       "\n",
       "    .dataframe thead th {\n",
       "        text-align: right;\n",
       "    }\n",
       "</style>\n",
       "<table border=\"1\" class=\"dataframe\">\n",
       "  <thead>\n",
       "    <tr style=\"text-align: right;\">\n",
       "      <th></th>\n",
       "      <th>step</th>\n",
       "      <th>type</th>\n",
       "      <th>amount</th>\n",
       "      <th>oldbalanceOrg</th>\n",
       "      <th>newbalanceOrig</th>\n",
       "      <th>oldbalanceDest</th>\n",
       "      <th>newbalanceDest</th>\n",
       "      <th>isFraud</th>\n",
       "      <th>isFlaggedFraud</th>\n",
       "    </tr>\n",
       "  </thead>\n",
       "  <tbody>\n",
       "    <tr>\n",
       "      <th>0</th>\n",
       "      <td>1</td>\n",
       "      <td>3</td>\n",
       "      <td>-1.071576</td>\n",
       "      <td>1.028310</td>\n",
       "      <td>0.923232</td>\n",
       "      <td>-0.914445</td>\n",
       "      <td>-0.964659</td>\n",
       "      <td>0</td>\n",
       "      <td>0</td>\n",
       "    </tr>\n",
       "    <tr>\n",
       "      <th>1</th>\n",
       "      <td>1</td>\n",
       "      <td>3</td>\n",
       "      <td>-1.232863</td>\n",
       "      <td>-0.305117</td>\n",
       "      <td>-0.317853</td>\n",
       "      <td>-0.914445</td>\n",
       "      <td>-0.964659</td>\n",
       "      <td>0</td>\n",
       "      <td>0</td>\n",
       "    </tr>\n",
       "    <tr>\n",
       "      <th>2</th>\n",
       "      <td>1</td>\n",
       "      <td>4</td>\n",
       "      <td>-1.268070</td>\n",
       "      <td>-0.845552</td>\n",
       "      <td>-0.710523</td>\n",
       "      <td>-0.914445</td>\n",
       "      <td>-0.964659</td>\n",
       "      <td>1</td>\n",
       "      <td>0</td>\n",
       "    </tr>\n",
       "    <tr>\n",
       "      <th>3</th>\n",
       "      <td>1</td>\n",
       "      <td>1</td>\n",
       "      <td>-1.268070</td>\n",
       "      <td>-0.845552</td>\n",
       "      <td>-0.710523</td>\n",
       "      <td>-0.820145</td>\n",
       "      <td>-0.964659</td>\n",
       "      <td>1</td>\n",
       "      <td>0</td>\n",
       "    </tr>\n",
       "    <tr>\n",
       "      <th>4</th>\n",
       "      <td>1</td>\n",
       "      <td>3</td>\n",
       "      <td>-1.035867</td>\n",
       "      <td>0.055501</td>\n",
       "      <td>-0.145828</td>\n",
       "      <td>-0.914445</td>\n",
       "      <td>-0.964659</td>\n",
       "      <td>0</td>\n",
       "      <td>0</td>\n",
       "    </tr>\n",
       "  </tbody>\n",
       "</table>\n",
       "</div>"
      ],
      "text/plain": [
       "   step  type    amount  oldbalanceOrg  newbalanceOrig  oldbalanceDest  \\\n",
       "0     1     3 -1.071576       1.028310        0.923232       -0.914445   \n",
       "1     1     3 -1.232863      -0.305117       -0.317853       -0.914445   \n",
       "2     1     4 -1.268070      -0.845552       -0.710523       -0.914445   \n",
       "3     1     1 -1.268070      -0.845552       -0.710523       -0.820145   \n",
       "4     1     3 -1.035867       0.055501       -0.145828       -0.914445   \n",
       "\n",
       "   newbalanceDest  isFraud  isFlaggedFraud  \n",
       "0       -0.964659        0               0  \n",
       "1       -0.964659        0               0  \n",
       "2       -0.964659        1               0  \n",
       "3       -0.964659        1               0  \n",
       "4       -0.964659        0               0  "
      ]
     },
     "execution_count": 4,
     "metadata": {},
     "output_type": "execute_result"
    }
   ],
   "source": [
    "data = load_processed_data(scaled_data_path)\n",
    "data.head()"
   ]
  },
  {
   "cell_type": "markdown",
   "id": "902b565f",
   "metadata": {},
   "source": [
    "Model Development "
   ]
  },
  {
   "cell_type": "markdown",
   "id": "6bd67289",
   "metadata": {},
   "source": [
    "- Features and labels"
   ]
  },
  {
   "cell_type": "code",
   "execution_count": 5,
   "id": "65d05b3d",
   "metadata": {},
   "outputs": [
    {
     "data": {
      "text/plain": [
       "((6362620, 8), (6362620,))"
      ]
     },
     "execution_count": 5,
     "metadata": {},
     "output_type": "execute_result"
    }
   ],
   "source": [
    "X = data.drop(columns=[\"isFraud\"])\n",
    "y = data[\"isFraud\"]\n",
    "X.shape, y.shape"
   ]
  },
  {
   "cell_type": "markdown",
   "id": "0ba6f577",
   "metadata": {},
   "source": [
    "- Splitting data"
   ]
  },
  {
   "cell_type": "code",
   "execution_count": 140,
   "id": "b4672891",
   "metadata": {},
   "outputs": [],
   "source": [
    "X_train, X_test, y_train, y_test = train_test_split(X,y,test_size=0.3,random_state=0,stratify=y)"
   ]
  },
  {
   "cell_type": "markdown",
   "id": "72b6a9ff",
   "metadata": {},
   "source": [
    "Model selection "
   ]
  },
  {
   "cell_type": "code",
   "execution_count": 7,
   "id": "290bf689",
   "metadata": {},
   "outputs": [],
   "source": [
    "# List of classification models and their respective instances\n",
    "models = [\n",
    "    (\"KNeighborsClassifier\", KNeighborsClassifier()),  # K-Nearest Neighbors\n",
    "#     (\"SVC\", SVC()),  # Support Vector Classifier - takes too much time\n",
    "    (\"DecisionTreeClassifier\", DecisionTreeClassifier()),  # Decision Tree\n",
    "    (\"LogisticRegression\", LogisticRegression()),  # Logistic Regression\n",
    "    (\"RandomForestClassifier\", RandomForestClassifier()),  # Random Forest\n",
    "    (\"GradientBoostingClassifier\", GradientBoostingClassifier()),  # Gradient Boosting\n",
    "    (\"VotingClassifier\", VotingClassifier(estimators=[\n",
    "        (\"knn\", KNeighborsClassifier()),\n",
    "#         (\"svc\", SVC()),- takes too much time\n",
    "        (\"dt\", DecisionTreeClassifier()),\n",
    "        (\"lr\", LogisticRegression()),\n",
    "        (\"rf\", RandomForestClassifier()),\n",
    "        (\"gr\", GradientBoostingClassifier())\n",
    "    ], voting='soft'))  # Soft voting ensemble\n",
    "]"
   ]
  },
  {
   "cell_type": "code",
   "execution_count": 8,
   "id": "6a45cef5",
   "metadata": {},
   "outputs": [],
   "source": [
    "def calculate_classification_metrics(model, X_test, y_test):\n",
    "    \"\"\"\n",
    "    Calculate classification metrics for a given model.\n",
    "\n",
    "    Parameters:\n",
    "    model: A trained classification model.\n",
    "    X_test (array-like): Feature matrix of the test set.\n",
    "    y_test (array-like): True labels of the test set.\n",
    "\n",
    "    Returns:\n",
    "    dict: A dictionary containing the classification metrics.\n",
    "    \"\"\"\n",
    "    y_preds = model.predict(X_test)\n",
    "    \n",
    "    accuracy = accuracy_score(y_test, y_preds)\n",
    "    precision = precision_score(y_test, y_preds)\n",
    "    recall = recall_score(y_test, y_preds)\n",
    "    f1 = f1_score(y_test, y_preds)\n",
    "    cm = confusion_matrix(y_test, y_preds).tolist()\n",
    "    \n",
    "    metrics = {\n",
    "        \"Accuracy\": accuracy,\n",
    "        \"Precision\": precision,\n",
    "        \"Recall\": recall,\n",
    "        \"F1 Score\": f1,\n",
    "        \"Confusion Matrix\": cm\n",
    "    }\n",
    "    \n",
    "    return metrics\n",
    "\n",
    "def calculate_metrics_for_models(models, X_train, y_train, X_test, y_test):\n",
    "    \"\"\"\n",
    "    Calculate classification metrics for a list of models.\n",
    "\n",
    "    Parameters:\n",
    "    models (list): A list of tuples containing model names and instances.\n",
    "    X_test (array-like): Feature matrix of the test set.\n",
    "    y_test (array-like): True labels of the test set.\n",
    "\n",
    "    Returns:\n",
    "    list: A list of dictionaries containing the classification metrics for each model.\n",
    "    \"\"\"\n",
    "    model_metrics = []\n",
    "\n",
    "    for model_name, model in models:\n",
    "        if isinstance(model, str):\n",
    "            continue \n",
    "        model.fit(X_train, y_train)\n",
    "        metrics = calculate_classification_metrics(model, X_test, y_test)\n",
    "        print(f\"--{model_name}--\")\n",
    "        model_metrics.append({\n",
    "            \"Model_name\": model_name,\n",
    "            \"Model\": model,\n",
    "            **metrics\n",
    "        })\n",
    "    return model_metrics"
   ]
  },
  {
   "cell_type": "code",
   "execution_count": 9,
   "id": "4c5c9300",
   "metadata": {},
   "outputs": [
    {
     "name": "stdout",
     "output_type": "stream",
     "text": [
      "--KNeighborsClassifier--\n",
      "--DecisionTreeClassifier--\n",
      "--LogisticRegression--\n",
      "--RandomForestClassifier--\n",
      "--GradientBoostingClassifier--\n",
      "--VotingClassifier--\n"
     ]
    }
   ],
   "source": [
    "model_summary = calculate_metrics_for_models(models, X_train, y_train, X_test, y_test)"
   ]
  },
  {
   "cell_type": "code",
   "execution_count": 29,
   "id": "c4103cec",
   "metadata": {},
   "outputs": [
    {
     "name": "stdout",
     "output_type": "stream",
     "text": [
      "Model Performance Summary:\n"
     ]
    },
    {
     "data": {
      "text/html": [
       "<div>\n",
       "<style scoped>\n",
       "    .dataframe tbody tr th:only-of-type {\n",
       "        vertical-align: middle;\n",
       "    }\n",
       "\n",
       "    .dataframe tbody tr th {\n",
       "        vertical-align: top;\n",
       "    }\n",
       "\n",
       "    .dataframe thead th {\n",
       "        text-align: right;\n",
       "    }\n",
       "</style>\n",
       "<table border=\"1\" class=\"dataframe\">\n",
       "  <thead>\n",
       "    <tr style=\"text-align: right;\">\n",
       "      <th></th>\n",
       "      <th>Model_name</th>\n",
       "      <th>Accuracy</th>\n",
       "      <th>Precision</th>\n",
       "      <th>Recall</th>\n",
       "      <th>F1 Score</th>\n",
       "      <th>Confusion Matrix</th>\n",
       "    </tr>\n",
       "  </thead>\n",
       "  <tbody>\n",
       "    <tr>\n",
       "      <th>1</th>\n",
       "      <td>DecisionTreeClassifier</td>\n",
       "      <td>0.999704</td>\n",
       "      <td>0.894147</td>\n",
       "      <td>0.874188</td>\n",
       "      <td>0.884055</td>\n",
       "      <td>[[1906067, 255], [310, 2154]]</td>\n",
       "    </tr>\n",
       "    <tr>\n",
       "      <th>3</th>\n",
       "      <td>RandomForestClassifier</td>\n",
       "      <td>0.999687</td>\n",
       "      <td>0.976033</td>\n",
       "      <td>0.776786</td>\n",
       "      <td>0.865085</td>\n",
       "      <td>[[1906275, 47], [550, 1914]]</td>\n",
       "    </tr>\n",
       "    <tr>\n",
       "      <th>5</th>\n",
       "      <td>VotingClassifier</td>\n",
       "      <td>0.999680</td>\n",
       "      <td>0.995192</td>\n",
       "      <td>0.756088</td>\n",
       "      <td>0.859317</td>\n",
       "      <td>[[1906313, 9], [601, 1863]]</td>\n",
       "    </tr>\n",
       "    <tr>\n",
       "      <th>4</th>\n",
       "      <td>GradientBoostingClassifier</td>\n",
       "      <td>0.999631</td>\n",
       "      <td>0.971597</td>\n",
       "      <td>0.735795</td>\n",
       "      <td>0.837413</td>\n",
       "      <td>[[1906269, 53], [651, 1813]]</td>\n",
       "    </tr>\n",
       "    <tr>\n",
       "      <th>0</th>\n",
       "      <td>KNeighborsClassifier</td>\n",
       "      <td>0.999472</td>\n",
       "      <td>0.979592</td>\n",
       "      <td>0.603896</td>\n",
       "      <td>0.747175</td>\n",
       "      <td>[[1906291, 31], [976, 1488]]</td>\n",
       "    </tr>\n",
       "    <tr>\n",
       "      <th>2</th>\n",
       "      <td>LogisticRegression</td>\n",
       "      <td>0.999120</td>\n",
       "      <td>0.978076</td>\n",
       "      <td>0.325893</td>\n",
       "      <td>0.488889</td>\n",
       "      <td>[[1906304, 18], [1661, 803]]</td>\n",
       "    </tr>\n",
       "  </tbody>\n",
       "</table>\n",
       "</div>"
      ],
      "text/plain": [
       "                   Model_name  Accuracy  Precision    Recall  F1 Score  \\\n",
       "1      DecisionTreeClassifier  0.999704   0.894147  0.874188  0.884055   \n",
       "3      RandomForestClassifier  0.999687   0.976033  0.776786  0.865085   \n",
       "5            VotingClassifier  0.999680   0.995192  0.756088  0.859317   \n",
       "4  GradientBoostingClassifier  0.999631   0.971597  0.735795  0.837413   \n",
       "0        KNeighborsClassifier  0.999472   0.979592  0.603896  0.747175   \n",
       "2          LogisticRegression  0.999120   0.978076  0.325893  0.488889   \n",
       "\n",
       "                Confusion Matrix  \n",
       "1  [[1906067, 255], [310, 2154]]  \n",
       "3   [[1906275, 47], [550, 1914]]  \n",
       "5    [[1906313, 9], [601, 1863]]  \n",
       "4   [[1906269, 53], [651, 1813]]  \n",
       "0   [[1906291, 31], [976, 1488]]  \n",
       "2   [[1906304, 18], [1661, 803]]  "
      ]
     },
     "execution_count": 29,
     "metadata": {},
     "output_type": "execute_result"
    }
   ],
   "source": [
    "# Display model performance\n",
    "model_summary_df = pd.DataFrame(model_summary).drop(columns=[\"Model\"])\n",
    "print(\"Model Performance Summary:\")\n",
    "model_summary_df.sort_values([\"F1 Score\",\"Recall\"],ascending=False) "
   ]
  },
  {
   "cell_type": "markdown",
   "id": "4753affe",
   "metadata": {},
   "source": [
    "Hyperparamter optimization - Taking too much time"
   ]
  },
  {
   "cell_type": "code",
   "execution_count": 30,
   "id": "b6ba7de2",
   "metadata": {},
   "outputs": [],
   "source": [
    "# #We will tune top model\n",
    "param_dist_dt = {\n",
    "    'criterion': ['gini', 'entropy'],\n",
    "    'splitter': ['best', 'random'],\n",
    "    'max_depth': range(1, 20),\n",
    "    'min_samples_split': range(2, 20),\n",
    "    'min_samples_leaf': range(1, 20)\n",
    "}\n"
   ]
  },
  {
   "cell_type": "code",
   "execution_count": 31,
   "id": "cdc8327a",
   "metadata": {},
   "outputs": [],
   "source": [
    "dt_rand_search = RandomizedSearchCV(DecisionTreeClassifier(), param_distributions=param_dist_dt, n_iter=8, cv=8)"
   ]
  },
  {
   "cell_type": "code",
   "execution_count": 32,
   "id": "7c7a5925",
   "metadata": {},
   "outputs": [
    {
     "data": {
      "text/plain": [
       "RandomizedSearchCV(cv=8, estimator=DecisionTreeClassifier(), n_iter=8,\n",
       "                   param_distributions={'criterion': ['gini', 'entropy'],\n",
       "                                        'max_depth': range(1, 20),\n",
       "                                        'min_samples_leaf': range(1, 20),\n",
       "                                        'min_samples_split': range(2, 20),\n",
       "                                        'splitter': ['best', 'random']})"
      ]
     },
     "execution_count": 32,
     "metadata": {},
     "output_type": "execute_result"
    }
   ],
   "source": [
    "dt_rand_search.fit(X_train,y_train)"
   ]
  },
  {
   "cell_type": "code",
   "execution_count": 33,
   "id": "44f97ebf",
   "metadata": {},
   "outputs": [
    {
     "name": "stdout",
     "output_type": "stream",
     "text": [
      "dt_rand_search best params: {'splitter': 'best', 'min_samples_split': 12, 'min_samples_leaf': 9, 'max_depth': 13, 'criterion': 'gini'}\n"
     ]
    }
   ],
   "source": [
    "print(f\"dt_rand_search best params: {dt_rand_search.best_params_}\")\n",
    "best_dt_model = dt_rand_search.best_estimator_"
   ]
  },
  {
   "cell_type": "code",
   "execution_count": 148,
   "id": "06eaf437",
   "metadata": {},
   "outputs": [
    {
     "name": "stdout",
     "output_type": "stream",
     "text": [
      "dt_rand_search best score: 0.999667252980214\n"
     ]
    }
   ],
   "source": [
    "print(f\"dt_rand_search best score: {dt_rand_search.best_score_}\") # Tree without optimization gives better results"
   ]
  },
  {
   "cell_type": "markdown",
   "id": "7a6bb638",
   "metadata": {},
   "source": [
    "Feature selection "
   ]
  },
  {
   "cell_type": "code",
   "execution_count": 34,
   "id": "d5540790",
   "metadata": {},
   "outputs": [
    {
     "data": {
      "text/plain": [
       "DecisionTreeClassifier(max_depth=13, min_samples_leaf=9, min_samples_split=12)"
      ]
     },
     "execution_count": 34,
     "metadata": {},
     "output_type": "execute_result"
    }
   ],
   "source": [
    "dummy_model = DecisionTreeClassifier()\n",
    "dummy_model"
   ]
  },
  {
   "cell_type": "code",
   "execution_count": 38,
   "id": "e0565c38",
   "metadata": {},
   "outputs": [
    {
     "data": {
      "image/png": "[encoded data removed]",
      "text/plain": [
       "<Figure size 720x360 with 1 Axes>"
      ]
     },
     "metadata": {
      "needs_background": "light"
     },
     "output_type": "display_data"
    }
   ],
   "source": [
    "plt.figure(figsize=(10,5))\n",
    "if hasattr(dummy_model, 'feature_importances_'):\n",
    "    feature_importance = dummy_model.feature_importances_\n",
    "    plt.bar(range(len(feature_importance)), feature_importance)\n",
    "    plt.xlabel('Feature Index')\n",
    "    plt.ylabel('Feature Importance')\n",
    "    plt.title('Feature Importance Plot')\n",
    "    plt.show()"
   ]
  },
  {
   "cell_type": "code",
   "execution_count": 44,
   "id": "2378a114",
   "metadata": {},
   "outputs": [],
   "source": [
    "#We will make a stratified sample \n",
    "_x, X_sample, _y, y_sample = train_test_split(X,y,test_size=0.1,random_state=0,stratify=y)"
   ]
  },
  {
   "cell_type": "code",
   "execution_count": 49,
   "id": "ca12c01c",
   "metadata": {},
   "outputs": [],
   "source": [
    "X_train_samp, X_test_samp, y_train_samp, y_test_samp = train_test_split(X_sample, y_sample, test_size=0.2, stratify=y_sample)"
   ]
  },
  {
   "cell_type": "code",
   "execution_count": 50,
   "id": "0927e6c5",
   "metadata": {},
   "outputs": [
    {
     "data": {
      "text/plain": [
       "((509009, 8), (127253, 8))"
      ]
     },
     "execution_count": 50,
     "metadata": {},
     "output_type": "execute_result"
    }
   ],
   "source": [
    "X_train_samp.shape, X_test_samp.shape"
   ]
  },
  {
   "cell_type": "code",
   "execution_count": 82,
   "id": "1b2cc4e9",
   "metadata": {},
   "outputs": [],
   "source": [
    "max_components = X.shape[1]\n",
    "f1_summary = {}\n",
    "recall_summary = {}\n",
    "feature_names = X.columns\n",
    "\n",
    "for k in range(1, max_components):\n",
    "    selector = SelectKBest(score_func=mutual_info_classif, k=k)\n",
    "    X_new_train = selector.fit_transform(X_train_samp, y_train_samp)\n",
    "    X_new_test = selector.transform(X_test_samp)\n",
    "    \n",
    "    # Get the names of the selected features\n",
    "    selected_feature_names = [feature_names[i] for i in selector.get_support(indices=True)]\n",
    "    \n",
    "    # Train the dummy model on the selected features\n",
    "    dummy_model.fit(X_new_train, y_train_samp)\n",
    "    \n",
    "    # Make predictions and calculate f1 score and recall score\n",
    "    y_preds = dummy_model.predict(X_new_test)\n",
    "    f1 = f1_score(y_test_samp, y_preds)\n",
    "    recall = recall_score(y_test_samp, y_preds)\n",
    "    \n",
    "    # Store the f1, recall scores, and feature names in the summary dictionaries\n",
    "    f1_summary[f\"features[{k}]\"] = {'f1_score': f1, 'selected_features': selected_feature_names}\n",
    "    recall_summary[f\"features[{k}]\"] = {'recall_score': recall, 'selected_features': selected_feature_names}"
   ]
  },
  {
   "cell_type": "code",
   "execution_count": 99,
   "id": "6ce013c1",
   "metadata": {},
   "outputs": [
    {
     "data": {
      "image/png": "[encoded data removed]",
      "text/plain": [
       "<Figure size 720x360 with 1 Axes>"
      ]
     },
     "metadata": {
      "needs_background": "light"
     },
     "output_type": "display_data"
    }
   ],
   "source": [
    "plt.figure(figsize=(10, 5))\n",
    "\n",
    "# Plot F1 score\n",
    "plt.plot(range(1, 8), [score['f1_score'] for score in f1_summary.values()], marker=\"o\", ms=4.5, label=\"F1 Score\", color='blue')\n",
    "\n",
    "# Plot Recall score\n",
    "plt.plot(range(1, 8), [score['recall_score'] for score in recall_summary.values()], marker=\"s\", ms=4.5, label=\"Recall Score\", color='green')\n",
    "\n",
    "plt.xlabel(\"Number of Selected Features\")\n",
    "plt.ylabel(\"Score\")\n",
    "plt.title(\"F1 Score and Recall Score vs. Number of Selected Features\")\n",
    "plt.xlim(1, 7)\n",
    "plt.grid(linewidth=0.5)\n",
    "plt.legend()\n",
    "plt.show()"
   ]
  },
  {
   "cell_type": "code",
   "execution_count": 112,
   "id": "9daf1fdf",
   "metadata": {},
   "outputs": [],
   "source": [
    "def get_feature_names(summary,K):\n",
    "    for k,v in summary.items():\n",
    "        if int(re.findall(\"\\d\",k)[0])==K:\n",
    "            return v[\"selected_features\"]"
   ]
  },
  {
   "cell_type": "code",
   "execution_count": 113,
   "id": "73e97e00",
   "metadata": {},
   "outputs": [
    {
     "name": "stdout",
     "output_type": "stream",
     "text": [
      "features are: ['step', 'type', 'oldbalanceOrg', 'newbalanceOrig', 'oldbalanceDest', 'newbalanceDest']\n"
     ]
    }
   ],
   "source": [
    "#Optimal performance is observed with a feature set of six elements (k=6). Recommend utilizing this subset for further analysis.\n",
    "feature_names = get_feature_names(f1_summary,6)\n",
    "print(f\"features are: {feature_names}\")"
   ]
  },
  {
   "cell_type": "code",
   "execution_count": 117,
   "id": "aa7476a0",
   "metadata": {},
   "outputs": [
    {
     "data": {
      "text/plain": [
       "((6362620, 6), (6362620,))"
      ]
     },
     "execution_count": 117,
     "metadata": {},
     "output_type": "execute_result"
    }
   ],
   "source": [
    "#new features and labels\n",
    "X_new = X.loc[:,feature_names]\n",
    "X_new.shape, y.shape"
   ]
  },
  {
   "cell_type": "code",
   "execution_count": 196,
   "id": "faf0ca9d",
   "metadata": {},
   "outputs": [
    {
     "data": {
      "text/html": [
       "<div>\n",
       "<style scoped>\n",
       "    .dataframe tbody tr th:only-of-type {\n",
       "        vertical-align: middle;\n",
       "    }\n",
       "\n",
       "    .dataframe tbody tr th {\n",
       "        vertical-align: top;\n",
       "    }\n",
       "\n",
       "    .dataframe thead th {\n",
       "        text-align: right;\n",
       "    }\n",
       "</style>\n",
       "<table border=\"1\" class=\"dataframe\">\n",
       "  <thead>\n",
       "    <tr style=\"text-align: right;\">\n",
       "      <th></th>\n",
       "      <th>step</th>\n",
       "      <th>type</th>\n",
       "      <th>oldbalanceOrg</th>\n",
       "      <th>newbalanceOrig</th>\n",
       "      <th>oldbalanceDest</th>\n",
       "      <th>newbalanceDest</th>\n",
       "    </tr>\n",
       "  </thead>\n",
       "  <tbody>\n",
       "    <tr>\n",
       "      <th>0</th>\n",
       "      <td>1</td>\n",
       "      <td>3</td>\n",
       "      <td>1.028310</td>\n",
       "      <td>0.923232</td>\n",
       "      <td>-0.914445</td>\n",
       "      <td>-0.964659</td>\n",
       "    </tr>\n",
       "    <tr>\n",
       "      <th>1</th>\n",
       "      <td>1</td>\n",
       "      <td>3</td>\n",
       "      <td>-0.305117</td>\n",
       "      <td>-0.317853</td>\n",
       "      <td>-0.914445</td>\n",
       "      <td>-0.964659</td>\n",
       "    </tr>\n",
       "    <tr>\n",
       "      <th>2</th>\n",
       "      <td>1</td>\n",
       "      <td>4</td>\n",
       "      <td>-0.845552</td>\n",
       "      <td>-0.710523</td>\n",
       "      <td>-0.914445</td>\n",
       "      <td>-0.964659</td>\n",
       "    </tr>\n",
       "    <tr>\n",
       "      <th>3</th>\n",
       "      <td>1</td>\n",
       "      <td>1</td>\n",
       "      <td>-0.845552</td>\n",
       "      <td>-0.710523</td>\n",
       "      <td>-0.820145</td>\n",
       "      <td>-0.964659</td>\n",
       "    </tr>\n",
       "    <tr>\n",
       "      <th>4</th>\n",
       "      <td>1</td>\n",
       "      <td>3</td>\n",
       "      <td>0.055501</td>\n",
       "      <td>-0.145828</td>\n",
       "      <td>-0.914445</td>\n",
       "      <td>-0.964659</td>\n",
       "    </tr>\n",
       "  </tbody>\n",
       "</table>\n",
       "</div>"
      ],
      "text/plain": [
       "   step  type  oldbalanceOrg  newbalanceOrig  oldbalanceDest  newbalanceDest\n",
       "0     1     3       1.028310        0.923232       -0.914445       -0.964659\n",
       "1     1     3      -0.305117       -0.317853       -0.914445       -0.964659\n",
       "2     1     4      -0.845552       -0.710523       -0.914445       -0.964659\n",
       "3     1     1      -0.845552       -0.710523       -0.820145       -0.964659\n",
       "4     1     3       0.055501       -0.145828       -0.914445       -0.964659"
      ]
     },
     "execution_count": 196,
     "metadata": {},
     "output_type": "execute_result"
    }
   ],
   "source": [
    "X_new.head()"
   ]
  },
  {
   "cell_type": "markdown",
   "id": "78eb4d3d",
   "metadata": {},
   "source": [
    "Tuning and re-training "
   ]
  },
  {
   "cell_type": "code",
   "execution_count": 159,
   "id": "64096176",
   "metadata": {},
   "outputs": [
    {
     "name": "stdout",
     "output_type": "stream",
     "text": [
      "DecisionTreeClassifier()\n"
     ]
    }
   ],
   "source": [
    "for stats in model_summary:\n",
    "    if stats[\"Model_name\"]== \"DecisionTreeClassifier\":\n",
    "        final_model = stats[\"Model\"]\n",
    "        print(final_model)"
   ]
  },
  {
   "cell_type": "code",
   "execution_count": 160,
   "id": "7a2ee2d4",
   "metadata": {},
   "outputs": [],
   "source": [
    "#Splitting data\n",
    "X_train, X_test, Y_train, Y_test = train_test_split(X_new,y,test_size=0.3,random_state=0,stratify=y)"
   ]
  },
  {
   "cell_type": "code",
   "execution_count": 161,
   "id": "b2a12b22",
   "metadata": {},
   "outputs": [],
   "source": [
    "strK = StratifiedKFold(12)"
   ]
  },
  {
   "cell_type": "code",
   "execution_count": 162,
   "id": "455d4d3b",
   "metadata": {},
   "outputs": [
    {
     "name": "stdout",
     "output_type": "stream",
     "text": [
      "fold[1]: f1_score:0.7913513513513514 | recall_score:0.7640918580375783\n",
      "fold[2]: f1_score:0.7782426778242678 | recall_score:0.7766179540709812\n",
      "fold[3]: f1_score:0.7879417879417878 | recall_score:0.791231732776618\n",
      "fold[4]: f1_score:0.7750791974656811 | recall_score:0.7661795407098121\n",
      "fold[5]: f1_score:0.8049029622063331 | recall_score:0.8225469728601252\n",
      "fold[6]: f1_score:0.792332268370607 | recall_score:0.7766179540709812\n",
      "fold[7]: f1_score:0.7966457023060797 | recall_score:0.7933194154488518\n",
      "fold[8]: f1_score:0.7719298245614035 | recall_score:0.7807933194154488\n",
      "fold[9]: f1_score:0.7970711297071131 | recall_score:0.7954070981210856\n",
      "fold[10]: f1_score:0.8109243697478992 | recall_score:0.8041666666666667\n",
      "fold[11]: f1_score:0.8152734778121774 | recall_score:0.824634655532359\n",
      "fold[12]: f1_score:0.8206185567010309 | recall_score:0.8308977035490606\n"
     ]
    }
   ],
   "source": [
    "f1_scores, recall_scores = [],[]\n",
    "c = 1\n",
    "for train_index, test_index in strK.split(X_train, Y_train):\n",
    "    \n",
    "    #batches\n",
    "    x_train, y_train = X_train.iloc[train_index], Y_train.iloc[train_index]\n",
    "    x_test, y_test = X_train.iloc[test_index], Y_train.iloc[test_index]\n",
    "    \n",
    "    #fitting and making batch wise predictions\n",
    "    final_model.fit(x_train,y_train)\n",
    "    y_preds = final_model.predict(x_test)\n",
    "    \n",
    "    #evaluation \n",
    "    f1s = f1_score(y_test, y_preds)\n",
    "    rs = recall_score(y_test, y_preds)\n",
    "    print(f\"fold[{c}]: f1_score:{f1s} | recall_score:{rs}\")\n",
    "    c+=1\n",
    "    f1_scores.append(f1s)\n",
    "    recall_scores.append(rs)"
   ]
  },
  {
   "cell_type": "markdown",
   "id": "c3b2c95f",
   "metadata": {},
   "source": [
    "Evaluation "
   ]
  },
  {
   "cell_type": "code",
   "execution_count": 163,
   "id": "1e822d2b",
   "metadata": {},
   "outputs": [],
   "source": [
    "#making predictions\n",
    "y_preds = final_model.predict(X_test)"
   ]
  },
  {
   "cell_type": "code",
   "execution_count": 194,
   "id": "b7d91479",
   "metadata": {},
   "outputs": [
    {
     "name": "stdout",
     "output_type": "stream",
     "text": [
      "recall score:0.7905844155844156 | f1 score:0.7952643396611554\n",
      "accuracy_score:0.9994745351233716 | precision_score:0.8\n"
     ]
    }
   ],
   "source": [
    "accuracy = accuracy_score(Y_test, y_preds)\n",
    "precision = precision_score(Y_test, y_preds)\n",
    "recall = recall_score(Y_test, y_preds)\n",
    "f1 = f1_score(Y_test, y_preds)\n",
    "print(f\"recall score:{recall} | f1 score:{f1}\\naccuracy_score:{accuracy} | precision_score:{precision}\")"
   ]
  },
  {
   "cell_type": "code",
   "execution_count": 190,
   "id": "51c08c5e",
   "metadata": {},
   "outputs": [
    {
     "data": {
      "image/png": "[encoded data removed]",
      "text/plain": [
       "<Figure size 432x288 with 1 Axes>"
      ]
     },
     "metadata": {
      "needs_background": "light"
     },
     "output_type": "display_data"
    }
   ],
   "source": [
    "#confusion matrix\n",
    "conf_matrix = confusion_matrix(Y_test,y_preds)\n",
    "fig, axes = plot_confusion_matrix(conf_mat=conf_matrix)\n",
    "plt.show()"
   ]
  },
  {
   "cell_type": "code",
   "execution_count": 176,
   "id": "c7b49c32",
   "metadata": {},
   "outputs": [
    {
     "data": {
      "text/plain": [
       "<Figure size 864x360 with 0 Axes>"
      ]
     },
     "metadata": {},
     "output_type": "display_data"
    },
    {
     "data": {
      "image/png": "[encoded data removed]",
      "text/plain": [
       "<Figure size 432x288 with 1 Axes>"
      ]
     },
     "metadata": {
      "needs_background": "light"
     },
     "output_type": "display_data"
    }
   ],
   "source": [
    "# 2. ROC Curve\n",
    "plt.figure(figsize=(12, 5))\n",
    "plot_roc_curve(final_model, X_test, Y_test)\n",
    "plt.title('ROC Curve')\n",
    "plt.show()"
   ]
  },
  {
   "cell_type": "code",
   "execution_count": 178,
   "id": "34ba3ff6",
   "metadata": {},
   "outputs": [
    {
     "data": {
      "image/png": "[encoded data removed]",
      "text/plain": [
       "<Figure size 432x288 with 1 Axes>"
      ]
     },
     "metadata": {
      "needs_background": "light"
     },
     "output_type": "display_data"
    }
   ],
   "source": [
    "# 3. Precision-Recall Curve\n",
    "plot_precision_recall_curve(final_model, X_test, Y_test)\n",
    "plt.title('Precision-Recall Curve')\n",
    "plt.show()"
   ]
  },
  {
   "cell_type": "code",
   "execution_count": 182,
   "id": "a9b3f2f1",
   "metadata": {},
   "outputs": [
    {
     "name": "stdout",
     "output_type": "stream",
     "text": [
      "              precision    recall  f1-score   support\n",
      "\n",
      "           0       1.00      1.00      1.00   1906322\n",
      "           1       0.80      0.79      0.80      2464\n",
      "\n",
      "    accuracy                           1.00   1908786\n",
      "   macro avg       0.90      0.90      0.90   1908786\n",
      "weighted avg       1.00      1.00      1.00   1908786\n",
      "\n"
     ]
    }
   ],
   "source": [
    "print(classification_report(Y_test, y_preds))"
   ]
  },
  {
   "cell_type": "markdown",
   "id": "2d5881d0",
   "metadata": {},
   "source": [
    "Loading models"
   ]
  },
  {
   "cell_type": "code",
   "execution_count": 199,
   "id": "2f3a32a9",
   "metadata": {},
   "outputs": [],
   "source": [
    "#all models with summary \n",
    "models_dict_path = os.path.join(models_dir, \"models_dict.pkl\")\n",
    "with open(models_dict_path, \"wb\") as file:\n",
    "        pickle.dump(model_summary, file)"
   ]
  },
  {
   "cell_type": "code",
   "execution_count": 198,
   "id": "faa1f807",
   "metadata": {},
   "outputs": [],
   "source": [
    "#final model\n",
    "final_model_path = os.path.join(models_dir, \"final_model.pkl\")\n",
    "with open(final_model_path, \"wb\") as file:\n",
    "        pickle.dump(final_model, file)"
   ]
  },
  {
   "cell_type": "code",
   "execution_count": null,
   "id": "64ac6813",
   "metadata": {},
   "outputs": [],
   "source": []
  }
 ],
 "metadata": {
  "kernelspec": {
   "display_name": "Python 3 (ipykernel)",
   "language": "python",
   "name": "python3"
  },
  "language_info": {
   "codemirror_mode": {
    "name": "ipython",
    "version": 3
   },
   "file_extension": ".py",
   "mimetype": "text/x-python",
   "name": "python",
   "nbconvert_exporter": "python",
   "pygments_lexer": "ipython3",
   "version": "3.10.0"
  }
 },
 "nbformat": 4,
 "nbformat_minor": 5
}
